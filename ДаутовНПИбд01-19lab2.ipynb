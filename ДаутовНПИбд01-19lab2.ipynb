{
  "cells": [
    {
      "cell_type": "markdown",
      "metadata": {
        "id": "bkvu6piHt3ra"
      },
      "source": [
        "### РОССИЙСКИЙ УНИВЕРСИТЕТ ДРУЖБЫ НАРОДОВ\n",
        "\n",
        "#### Факультет физико-математических и естественных наук  \n",
        "#### Кафедра информационных технологий "
      ]
    },
    {
      "cell_type": "markdown",
      "metadata": {
        "id": "djXIWnpjt3rf"
      },
      "source": [
        "## ОТЧЕТ ПО ЛАБОРАТОРНОЙ РАБОТЕ № 2\n",
        "\n",
        "\n",
        "### Дисциплина: Интеллектуальный анализ данных"
      ]
    },
    {
      "cell_type": "markdown",
      "metadata": {
        "id": "fo_ynhTst3rg"
      },
      "source": [
        "##### Студент:  Даутов Самир Амирович\n",
        "##### Группа:   НПИбд-01-19\n"
      ]
    },
    {
      "cell_type": "markdown",
      "metadata": {
        "id": "TbvGIymht3rh"
      },
      "source": [
        "## Москва 2022\n",
        "***"
      ]
    },
    {
      "cell_type": "markdown",
      "metadata": {
        "id": "avs03Eqmt3rh"
      },
      "source": [
        "### Вариант № 29"
      ]
    },
    {
      "cell_type": "markdown",
      "metadata": {
        "id": "qD0ueSBVF08U"
      },
      "source": [
        "1.\tПри помощи модуля sqlite3 откройте базу данных Instacart в файле instacart.db."
      ]
    },
    {
      "cell_type": "code",
      "execution_count": null,
      "metadata": {
        "id": "NscQ6-VVF08V"
      },
      "outputs": [],
      "source": [
        "import numpy as np\n",
        "from mlxtend.frequent_patterns import association_rules\n",
        "from mlxtend.frequent_patterns import fpgrowth\n",
        "from mlxtend.preprocessing import TransactionEncoder\n",
        "import itertools\n",
        "import pandas as pd\n",
        "import sqlite3\n",
        "\n",
        "conn = sqlite3.connect('instacart.db')"
      ]
    },
    {
      "cell_type": "markdown",
      "metadata": {
        "id": "M_J_TtxzF08X"
      },
      "source": [
        "2.  Загрузите таблицы `departments` и `products` в датафреймы Pandas. При помощи запроса SELECT извлеките из таблицы `order_products__train` записи, соответствующие указанным в индивидуальном задании дню недели (поле `order_dow` таблицы `orders`) и коду департамента (поле `department_id` таблицы `products`) и загрузите в датафрейм Pandas. Определите количество строк в полученном датафрейме и определите количество товаров (стоолбец `product_id`) в транзакциях датафрейма."
      ]
    },
    {
      "cell_type": "code",
      "execution_count": null,
      "metadata": {
        "id": "oQVhXRMnF08Y",
        "outputId": "7a15e4e4-be2f-4734-ef53-a5d35d9749ac"
      },
      "outputs": [
        {
          "data": {
            "text/html": [
              "<div>\n",
              "<style scoped>\n",
              "    .dataframe tbody tr th:only-of-type {\n",
              "        vertical-align: middle;\n",
              "    }\n",
              "\n",
              "    .dataframe tbody tr th {\n",
              "        vertical-align: top;\n",
              "    }\n",
              "\n",
              "    .dataframe thead th {\n",
              "        text-align: right;\n",
              "    }\n",
              "</style>\n",
              "<table border=\"1\" class=\"dataframe\">\n",
              "  <thead>\n",
              "    <tr style=\"text-align: right;\">\n",
              "      <th></th>\n",
              "      <th>department_id</th>\n",
              "      <th>department</th>\n",
              "    </tr>\n",
              "  </thead>\n",
              "  <tbody>\n",
              "    <tr>\n",
              "      <th>0</th>\n",
              "      <td>1</td>\n",
              "      <td>frozen</td>\n",
              "    </tr>\n",
              "    <tr>\n",
              "      <th>1</th>\n",
              "      <td>2</td>\n",
              "      <td>other</td>\n",
              "    </tr>\n",
              "    <tr>\n",
              "      <th>2</th>\n",
              "      <td>3</td>\n",
              "      <td>bakery</td>\n",
              "    </tr>\n",
              "    <tr>\n",
              "      <th>3</th>\n",
              "      <td>4</td>\n",
              "      <td>produce</td>\n",
              "    </tr>\n",
              "    <tr>\n",
              "      <th>4</th>\n",
              "      <td>5</td>\n",
              "      <td>alcohol</td>\n",
              "    </tr>\n",
              "  </tbody>\n",
              "</table>\n",
              "</div>"
            ],
            "text/plain": [
              "  department_id department\n",
              "0             1     frozen\n",
              "1             2      other\n",
              "2             3     bakery\n",
              "3             4    produce\n",
              "4             5    alcohol"
            ]
          },
          "execution_count": 2,
          "metadata": {},
          "output_type": "execute_result"
        }
      ],
      "source": [
        "pd.read_sql_query(\"SELECT * FROM departments\", conn)[:5]"
      ]
    },
    {
      "cell_type": "code",
      "execution_count": null,
      "metadata": {
        "id": "j9MZCHcCF08Z",
        "outputId": "c1cc1c5a-1c89-467d-d8cd-b3463eb1523d"
      },
      "outputs": [
        {
          "data": {
            "text/html": [
              "<div>\n",
              "<style scoped>\n",
              "    .dataframe tbody tr th:only-of-type {\n",
              "        vertical-align: middle;\n",
              "    }\n",
              "\n",
              "    .dataframe tbody tr th {\n",
              "        vertical-align: top;\n",
              "    }\n",
              "\n",
              "    .dataframe thead th {\n",
              "        text-align: right;\n",
              "    }\n",
              "</style>\n",
              "<table border=\"1\" class=\"dataframe\">\n",
              "  <thead>\n",
              "    <tr style=\"text-align: right;\">\n",
              "      <th></th>\n",
              "      <th>product_id</th>\n",
              "      <th>product_name</th>\n",
              "      <th>aisle_id</th>\n",
              "      <th>department_id</th>\n",
              "    </tr>\n",
              "  </thead>\n",
              "  <tbody>\n",
              "    <tr>\n",
              "      <th>0</th>\n",
              "      <td>1</td>\n",
              "      <td>Chocolate Sandwich Cookies</td>\n",
              "      <td>61</td>\n",
              "      <td>19</td>\n",
              "    </tr>\n",
              "    <tr>\n",
              "      <th>1</th>\n",
              "      <td>2</td>\n",
              "      <td>All-Seasons Salt</td>\n",
              "      <td>104</td>\n",
              "      <td>13</td>\n",
              "    </tr>\n",
              "    <tr>\n",
              "      <th>2</th>\n",
              "      <td>3</td>\n",
              "      <td>Robust Golden Unsweetened Oolong Tea</td>\n",
              "      <td>94</td>\n",
              "      <td>7</td>\n",
              "    </tr>\n",
              "    <tr>\n",
              "      <th>3</th>\n",
              "      <td>4</td>\n",
              "      <td>Smart Ones Classic Favorites Mini Rigatoni Wit...</td>\n",
              "      <td>38</td>\n",
              "      <td>1</td>\n",
              "    </tr>\n",
              "    <tr>\n",
              "      <th>4</th>\n",
              "      <td>5</td>\n",
              "      <td>Green Chile Anytime Sauce</td>\n",
              "      <td>5</td>\n",
              "      <td>13</td>\n",
              "    </tr>\n",
              "  </tbody>\n",
              "</table>\n",
              "</div>"
            ],
            "text/plain": [
              "  product_id                                       product_name aisle_id  \\\n",
              "0          1                         Chocolate Sandwich Cookies       61   \n",
              "1          2                                   All-Seasons Salt      104   \n",
              "2          3               Robust Golden Unsweetened Oolong Tea       94   \n",
              "3          4  Smart Ones Classic Favorites Mini Rigatoni Wit...       38   \n",
              "4          5                          Green Chile Anytime Sauce        5   \n",
              "\n",
              "  department_id  \n",
              "0            19  \n",
              "1            13  \n",
              "2             7  \n",
              "3             1  \n",
              "4            13  "
            ]
          },
          "execution_count": 3,
          "metadata": {},
          "output_type": "execute_result"
        }
      ],
      "source": [
        "pd.read_sql_query(\"SELECT * FROM products\", conn)[:5]"
      ]
    },
    {
      "cell_type": "code",
      "execution_count": null,
      "metadata": {
        "id": "l1kyXdP_F08a"
      },
      "outputs": [],
      "source": [
        "data = pd.read_sql_query(\n",
        "    \"\"\"SELECT opt.order_id, opt.product_id, add_to_cart_order, reordered, product_name \n",
        "    FROM order_products__train as opt, orders as ord, products as pr WHERE ord.order_id = opt.order_id AND pr.product_id = opt.product_id \n",
        "    AND ord.order_dow=1 AND pr.department_id=11\"\"\", conn)"
      ]
    },
    {
      "cell_type": "code",
      "execution_count": null,
      "metadata": {
        "id": "vj0hlhbGF08a",
        "outputId": "c7a74ac3-8ee3-4a87-c105-d76a49c31e92"
      },
      "outputs": [
        {
          "data": {
            "text/html": [
              "<div>\n",
              "<style scoped>\n",
              "    .dataframe tbody tr th:only-of-type {\n",
              "        vertical-align: middle;\n",
              "    }\n",
              "\n",
              "    .dataframe tbody tr th {\n",
              "        vertical-align: top;\n",
              "    }\n",
              "\n",
              "    .dataframe thead th {\n",
              "        text-align: right;\n",
              "    }\n",
              "</style>\n",
              "<table border=\"1\" class=\"dataframe\">\n",
              "  <thead>\n",
              "    <tr style=\"text-align: right;\">\n",
              "      <th></th>\n",
              "      <th>order_id</th>\n",
              "      <th>product_id</th>\n",
              "      <th>add_to_cart_order</th>\n",
              "      <th>reordered</th>\n",
              "      <th>product_name</th>\n",
              "    </tr>\n",
              "  </thead>\n",
              "  <tbody>\n",
              "    <tr>\n",
              "      <th>0</th>\n",
              "      <td>819960</td>\n",
              "      <td>27</td>\n",
              "      <td>4</td>\n",
              "      <td>0</td>\n",
              "      <td>Complete Spring Water Foaming Antibacterial Ha...</td>\n",
              "    </tr>\n",
              "    <tr>\n",
              "      <th>1</th>\n",
              "      <td>1853924</td>\n",
              "      <td>75</td>\n",
              "      <td>9</td>\n",
              "      <td>0</td>\n",
              "      <td>Hemp Protein, Organic</td>\n",
              "    </tr>\n",
              "    <tr>\n",
              "      <th>2</th>\n",
              "      <td>2050865</td>\n",
              "      <td>75</td>\n",
              "      <td>3</td>\n",
              "      <td>1</td>\n",
              "      <td>Hemp Protein, Organic</td>\n",
              "    </tr>\n",
              "    <tr>\n",
              "      <th>3</th>\n",
              "      <td>2178635</td>\n",
              "      <td>75</td>\n",
              "      <td>2</td>\n",
              "      <td>0</td>\n",
              "      <td>Hemp Protein, Organic</td>\n",
              "    </tr>\n",
              "    <tr>\n",
              "      <th>4</th>\n",
              "      <td>251148</td>\n",
              "      <td>113</td>\n",
              "      <td>1</td>\n",
              "      <td>0</td>\n",
              "      <td>Infant's Blend Probiotic</td>\n",
              "    </tr>\n",
              "  </tbody>\n",
              "</table>\n",
              "</div>"
            ],
            "text/plain": [
              "  order_id product_id add_to_cart_order reordered  \\\n",
              "0   819960         27                 4         0   \n",
              "1  1853924         75                 9         0   \n",
              "2  2050865         75                 3         1   \n",
              "3  2178635         75                 2         0   \n",
              "4   251148        113                 1         0   \n",
              "\n",
              "                                        product_name  \n",
              "0  Complete Spring Water Foaming Antibacterial Ha...  \n",
              "1                              Hemp Protein, Organic  \n",
              "2                              Hemp Protein, Organic  \n",
              "3                              Hemp Protein, Organic  \n",
              "4                           Infant's Blend Probiotic  "
            ]
          },
          "execution_count": 5,
          "metadata": {},
          "output_type": "execute_result"
        }
      ],
      "source": [
        "data.head()"
      ]
    },
    {
      "cell_type": "markdown",
      "metadata": {
        "id": "GRGvRZdYF08b"
      },
      "source": [
        "Kоличество строк в полученном датафрейме"
      ]
    },
    {
      "cell_type": "code",
      "execution_count": null,
      "metadata": {
        "id": "BA9qQwGxF08c",
        "outputId": "f8335053-1c54-4213-8ec1-7e6f9004139f"
      },
      "outputs": [
        {
          "data": {
            "text/plain": [
              "3045"
            ]
          },
          "execution_count": 6,
          "metadata": {},
          "output_type": "execute_result"
        }
      ],
      "source": [
        "len(data)"
      ]
    },
    {
      "cell_type": "markdown",
      "metadata": {
        "id": "R4OelpTNF08c"
      },
      "source": [
        "количество товаров (стоолбец `product_id`) в транзакциях датафрейма."
      ]
    },
    {
      "cell_type": "code",
      "execution_count": null,
      "metadata": {
        "id": "OXcAtf5XF08c",
        "outputId": "b86ea3b7-8214-4853-a297-ced7cf1b1220"
      },
      "outputs": [
        {
          "data": {
            "text/plain": [
              "1561"
            ]
          },
          "execution_count": 7,
          "metadata": {},
          "output_type": "execute_result"
        }
      ],
      "source": [
        "len(data['product_id'].unique())"
      ]
    },
    {
      "cell_type": "markdown",
      "metadata": {
        "id": "QkWIi9hAF08d"
      },
      "source": [
        "3.\tОпределите пять наиболее популярных товаров в датафрейме транзакций и определите количество покупок (транзакций) этих товаров."
      ]
    },
    {
      "cell_type": "markdown",
      "metadata": {
        "id": "36h-O5BQF08d"
      },
      "source": [
        "Пять наиболее популярных товаров"
      ]
    },
    {
      "cell_type": "code",
      "execution_count": null,
      "metadata": {
        "id": "8-BEpKKIF08d",
        "outputId": "b8292f08-f57c-45d0-d262-e3f5bf0723ea"
      },
      "outputs": [
        {
          "data": {
            "text/plain": [
              "Lavender Hand Soap                                            42\n",
              "Cotton Swabs                                                  39\n",
              "Lemon Verbena Hand Soap                                       29\n",
              "Fluoride-Free Antiplaque & Whitening Peppermint Toothpaste    28\n",
              "Premium Epsom Salt                                            26\n",
              "Name: product_name, dtype: int64"
            ]
          },
          "execution_count": 8,
          "metadata": {},
          "output_type": "execute_result"
        }
      ],
      "source": [
        "data['product_name'].value_counts()[:5]"
      ]
    },
    {
      "cell_type": "markdown",
      "metadata": {
        "id": "5-sqYwYQF08d"
      },
      "source": [
        "4.\tПостройте транзакционную базу данных из полученного датафрейма, используя в качестве идентификатора транзакции столбец `order_id`, а в качестве названий товаров - поле `product_name` из датафрейма для таблицы `products`, соответствующее столбцу `product_id`. Найдите в транзакционной базе данных три транзакции с наибольшим количеством товаров и выведите их на экран. "
      ]
    },
    {
      "cell_type": "code",
      "execution_count": null,
      "metadata": {
        "id": "iivDD1sgF08e",
        "outputId": "c19b0eeb-49d9-4a1d-f7cf-de337ff86443"
      },
      "outputs": [
        {
          "data": {
            "text/plain": [
              "{'1000578': ['Pure Castile Peppermint Soap'],\n",
              " '1003833': ['Lemon Verbena Hand Soap'],\n",
              " '1005698': ['Natural Chocolate Flavor Whey Protein Powder'],\n",
              " '1007055': ['PM Acetaminophen Caplets'],\n",
              " '1008698': ['Extra Whitening Toothpaste']}"
            ]
          },
          "execution_count": 9,
          "metadata": {},
          "output_type": "execute_result"
        }
      ],
      "source": [
        "dataset = data.groupby('order_id')['product_name'].apply(list).to_dict()\n",
        "\n",
        "dict(itertools.islice(dataset.items(), 5))"
      ]
    },
    {
      "cell_type": "code",
      "execution_count": null,
      "metadata": {
        "id": "q3QoGMM4F08e",
        "outputId": "10bdfa10-6d1d-4016-c318-5d1bbfd3ebd6"
      },
      "outputs": [
        {
          "data": {
            "text/plain": [
              "order_id\n",
              "3076974    10\n",
              "2692189     9\n",
              "1692125     9\n",
              "2445511     9\n",
              "2149222     9\n",
              "           ..\n",
              "2195503     1\n",
              "2193292     1\n",
              "2191145     1\n",
              "2188459     1\n",
              "998784      1\n",
              "Name: product_name, Length: 2134, dtype: int64"
            ]
          },
          "execution_count": 10,
          "metadata": {},
          "output_type": "execute_result"
        }
      ],
      "source": [
        "data[['order_id', 'product_name']].groupby('order_id')['product_name'].count().sort_values(ascending=False)"
      ]
    },
    {
      "cell_type": "code",
      "execution_count": null,
      "metadata": {
        "id": "ipcI5sI6F08e",
        "outputId": "d627e592-c6d0-43fa-e58d-581991644b6a"
      },
      "outputs": [
        {
          "data": {
            "text/plain": [
              "['PM Acetaminophen Caplets',\n",
              " 'Motion Sickness Relief, Less Drowsy Formula, 25 mg',\n",
              " 'Green Tea & Honey Lemon Multi-Symptom Pain Reliever/Fever Reducer',\n",
              " 'Cough Drop',\n",
              " 'Gentle and Predictable Overnight Relief Laxative Tablets',\n",
              " 'Adhesive Bandages Advanced Healing Blister Cushions',\n",
              " 'Dry Touch Sunscreen SPF 30 Posted 5/21/2013 Ultra Sheer Sunblock',\n",
              " 'Plus Lubricant Eye Drops',\n",
              " 'Allergy Ultratab Tablets',\n",
              " 'Allergy 24HR Nasal Allergy Spray - 120 Sprays']"
            ]
          },
          "execution_count": 11,
          "metadata": {},
          "output_type": "execute_result"
        }
      ],
      "source": [
        "dataset.get('3076974')"
      ]
    },
    {
      "cell_type": "code",
      "execution_count": null,
      "metadata": {
        "id": "3FVuem_KF08g",
        "outputId": "a9d3a989-a713-41c0-d866-4522d6d5b415"
      },
      "outputs": [
        {
          "data": {
            "text/plain": [
              "['Marula Oil Treatment for all Skin Types',\n",
              " 'Crystal Deodorant Mist Spray',\n",
              " 'Triple Blade Cartridges',\n",
              " 'Vitamin C Renewal Vitality Facial Serum',\n",
              " 'Argan Oil 100% USDA Organic Moroccan',\n",
              " 'Lotion, Dry Skin, Original Unscented',\n",
              " 'Cell Stimulating Facial Mask',\n",
              " 'Full Volume Conditioner Lavender & Biotin',\n",
              " 'Acne Dote Deep Pore Wash']"
            ]
          },
          "execution_count": 12,
          "metadata": {},
          "output_type": "execute_result"
        }
      ],
      "source": [
        "dataset.get('2692189')"
      ]
    },
    {
      "cell_type": "code",
      "execution_count": null,
      "metadata": {
        "id": "rbmAZrY5F08g",
        "outputId": "fdd223e7-2d75-4646-b201-e05c985efa1b"
      },
      "outputs": [
        {
          "data": {
            "text/plain": [
              "['Turmeric Supreme Extra Strength',\n",
              " 'Vitamin D3 Gummies, 1000 IU, Great Wild Berry Taste!',\n",
              " 'Chocolate Energy Supplement',\n",
              " 'Nordic Omega-3 Fishies 300 mg Chewables',\n",
              " 'Chocolate Sleep Supplement',\n",
              " 'Vegetarian Calcium + Vitamin D3 Sour Flavored Gummy Bears',\n",
              " 'Sugar Free Multi-Vitamin & Mineral Gummy Bears',\n",
              " 'Hand Soap Lemongrass',\n",
              " 'Omega 3 Formula 1000mg']"
            ]
          },
          "execution_count": 13,
          "metadata": {},
          "output_type": "execute_result"
        }
      ],
      "source": [
        "dataset.get('1692125')"
      ]
    },
    {
      "cell_type": "markdown",
      "metadata": {
        "id": "JWQDc0UwF08g"
      },
      "source": [
        "5.\tПостройте по транзакционной базе данных бинарную базу данных в формате датафрейма пакета `mlxtend`. По бинарной базе данных определите пять  наиболее популярных товаров и определите количество покупок (транзакций) этих товаров."
      ]
    },
    {
      "cell_type": "code",
      "execution_count": null,
      "metadata": {
        "id": "2T5xf84eF08g",
        "outputId": "25e833d0-e5a0-4d82-c5c7-b53bbce027e5"
      },
      "outputs": [
        {
          "data": {
            "text/html": [
              "<div>\n",
              "<style scoped>\n",
              "    .dataframe tbody tr th:only-of-type {\n",
              "        vertical-align: middle;\n",
              "    }\n",
              "\n",
              "    .dataframe tbody tr th {\n",
              "        vertical-align: top;\n",
              "    }\n",
              "\n",
              "    .dataframe thead th {\n",
              "        text-align: right;\n",
              "    }\n",
              "</style>\n",
              "<table border=\"1\" class=\"dataframe\">\n",
              "  <thead>\n",
              "    <tr style=\"text-align: right;\">\n",
              "      <th></th>\n",
              "      <th>1 Razor Handle and 2 Freesia Scented Razor Refills  Premium BladeRazor System</th>\n",
              "      <th>1,000 mg Vitamin C Lemon-Lime Flavored Fizzy Drink Mix - 30 PK</th>\n",
              "      <th>100% Natural Fruit Chew C Chewable Wafers Tangy Orange</th>\n",
              "      <th>100% Natural Spirulina Powder</th>\n",
              "      <th>100% Pure Australian Tea Tree Oil</th>\n",
              "      <th>100% Pure Sensitive Skin Care Grape Seed Oil</th>\n",
              "      <th>100% Whey Protein Powder Chocolate Fudge</th>\n",
              "      <th>100% Whey Protein Powder Vanilla</th>\n",
              "      <th>12 Hour Chest Congestion</th>\n",
              "      <th>12 Hour Orange Adult Cough Suppressant</th>\n",
              "      <th>...</th>\n",
              "      <th>Xtreme Defense 5 Fresh Blast Antiperspirant &amp; Deodorant</th>\n",
              "      <th>Ylang Ylang + Cedarwood Hand Soap</th>\n",
              "      <th>Zinc Elderberry and Raspberry Lozenges</th>\n",
              "      <th>Zinc Target Mins 50 Mg Gluten Free Tablets</th>\n",
              "      <th>ZzzQuil Liquid Warming Berry Flavor Sleep-Aid</th>\n",
              "      <th>ZzzQuil Nighttime Sleep-Aid LiquiCaps</th>\n",
              "      <th>by Mennen Power Antiperspirant/Deodorant Fresh</th>\n",
              "      <th>gel hand wash sea minerals</th>\n",
              "      <th>go fresh Cool Moisture Beauty</th>\n",
              "      <th>rich kiss Olive &amp; Aloe Moisturizer 2 in 1</th>\n",
              "    </tr>\n",
              "  </thead>\n",
              "  <tbody>\n",
              "    <tr>\n",
              "      <th>1000578</th>\n",
              "      <td>False</td>\n",
              "      <td>False</td>\n",
              "      <td>False</td>\n",
              "      <td>False</td>\n",
              "      <td>False</td>\n",
              "      <td>False</td>\n",
              "      <td>False</td>\n",
              "      <td>False</td>\n",
              "      <td>False</td>\n",
              "      <td>False</td>\n",
              "      <td>...</td>\n",
              "      <td>False</td>\n",
              "      <td>False</td>\n",
              "      <td>False</td>\n",
              "      <td>False</td>\n",
              "      <td>False</td>\n",
              "      <td>False</td>\n",
              "      <td>False</td>\n",
              "      <td>False</td>\n",
              "      <td>False</td>\n",
              "      <td>False</td>\n",
              "    </tr>\n",
              "    <tr>\n",
              "      <th>1003833</th>\n",
              "      <td>False</td>\n",
              "      <td>False</td>\n",
              "      <td>False</td>\n",
              "      <td>False</td>\n",
              "      <td>False</td>\n",
              "      <td>False</td>\n",
              "      <td>False</td>\n",
              "      <td>False</td>\n",
              "      <td>False</td>\n",
              "      <td>False</td>\n",
              "      <td>...</td>\n",
              "      <td>False</td>\n",
              "      <td>False</td>\n",
              "      <td>False</td>\n",
              "      <td>False</td>\n",
              "      <td>False</td>\n",
              "      <td>False</td>\n",
              "      <td>False</td>\n",
              "      <td>False</td>\n",
              "      <td>False</td>\n",
              "      <td>False</td>\n",
              "    </tr>\n",
              "    <tr>\n",
              "      <th>1005698</th>\n",
              "      <td>False</td>\n",
              "      <td>False</td>\n",
              "      <td>False</td>\n",
              "      <td>False</td>\n",
              "      <td>False</td>\n",
              "      <td>False</td>\n",
              "      <td>False</td>\n",
              "      <td>False</td>\n",
              "      <td>False</td>\n",
              "      <td>False</td>\n",
              "      <td>...</td>\n",
              "      <td>False</td>\n",
              "      <td>False</td>\n",
              "      <td>False</td>\n",
              "      <td>False</td>\n",
              "      <td>False</td>\n",
              "      <td>False</td>\n",
              "      <td>False</td>\n",
              "      <td>False</td>\n",
              "      <td>False</td>\n",
              "      <td>False</td>\n",
              "    </tr>\n",
              "    <tr>\n",
              "      <th>1007055</th>\n",
              "      <td>False</td>\n",
              "      <td>False</td>\n",
              "      <td>False</td>\n",
              "      <td>False</td>\n",
              "      <td>False</td>\n",
              "      <td>False</td>\n",
              "      <td>False</td>\n",
              "      <td>False</td>\n",
              "      <td>False</td>\n",
              "      <td>False</td>\n",
              "      <td>...</td>\n",
              "      <td>False</td>\n",
              "      <td>False</td>\n",
              "      <td>False</td>\n",
              "      <td>False</td>\n",
              "      <td>False</td>\n",
              "      <td>False</td>\n",
              "      <td>False</td>\n",
              "      <td>False</td>\n",
              "      <td>False</td>\n",
              "      <td>False</td>\n",
              "    </tr>\n",
              "    <tr>\n",
              "      <th>1008698</th>\n",
              "      <td>False</td>\n",
              "      <td>False</td>\n",
              "      <td>False</td>\n",
              "      <td>False</td>\n",
              "      <td>False</td>\n",
              "      <td>False</td>\n",
              "      <td>False</td>\n",
              "      <td>False</td>\n",
              "      <td>False</td>\n",
              "      <td>False</td>\n",
              "      <td>...</td>\n",
              "      <td>False</td>\n",
              "      <td>False</td>\n",
              "      <td>False</td>\n",
              "      <td>False</td>\n",
              "      <td>False</td>\n",
              "      <td>False</td>\n",
              "      <td>False</td>\n",
              "      <td>False</td>\n",
              "      <td>False</td>\n",
              "      <td>False</td>\n",
              "    </tr>\n",
              "  </tbody>\n",
              "</table>\n",
              "<p>5 rows × 1561 columns</p>\n",
              "</div>"
            ],
            "text/plain": [
              "         1 Razor Handle and 2 Freesia Scented Razor Refills  Premium BladeRazor System  \\\n",
              "1000578                                              False                               \n",
              "1003833                                              False                               \n",
              "1005698                                              False                               \n",
              "1007055                                              False                               \n",
              "1008698                                              False                               \n",
              "\n",
              "         1,000 mg Vitamin C Lemon-Lime Flavored Fizzy Drink Mix - 30 PK  \\\n",
              "1000578                                              False                \n",
              "1003833                                              False                \n",
              "1005698                                              False                \n",
              "1007055                                              False                \n",
              "1008698                                              False                \n",
              "\n",
              "         100% Natural Fruit Chew C Chewable Wafers Tangy Orange  \\\n",
              "1000578                                              False        \n",
              "1003833                                              False        \n",
              "1005698                                              False        \n",
              "1007055                                              False        \n",
              "1008698                                              False        \n",
              "\n",
              "         100% Natural Spirulina Powder  100% Pure Australian Tea Tree Oil  \\\n",
              "1000578                          False                              False   \n",
              "1003833                          False                              False   \n",
              "1005698                          False                              False   \n",
              "1007055                          False                              False   \n",
              "1008698                          False                              False   \n",
              "\n",
              "         100% Pure Sensitive Skin Care Grape Seed Oil  \\\n",
              "1000578                                         False   \n",
              "1003833                                         False   \n",
              "1005698                                         False   \n",
              "1007055                                         False   \n",
              "1008698                                         False   \n",
              "\n",
              "         100% Whey Protein Powder Chocolate Fudge  \\\n",
              "1000578                                     False   \n",
              "1003833                                     False   \n",
              "1005698                                     False   \n",
              "1007055                                     False   \n",
              "1008698                                     False   \n",
              "\n",
              "         100% Whey Protein Powder Vanilla  12 Hour Chest Congestion  \\\n",
              "1000578                             False                     False   \n",
              "1003833                             False                     False   \n",
              "1005698                             False                     False   \n",
              "1007055                             False                     False   \n",
              "1008698                             False                     False   \n",
              "\n",
              "         12 Hour Orange Adult Cough Suppressant  ...  \\\n",
              "1000578                                   False  ...   \n",
              "1003833                                   False  ...   \n",
              "1005698                                   False  ...   \n",
              "1007055                                   False  ...   \n",
              "1008698                                   False  ...   \n",
              "\n",
              "         Xtreme Defense 5 Fresh Blast Antiperspirant & Deodorant  \\\n",
              "1000578                                              False         \n",
              "1003833                                              False         \n",
              "1005698                                              False         \n",
              "1007055                                              False         \n",
              "1008698                                              False         \n",
              "\n",
              "         Ylang Ylang + Cedarwood Hand Soap  \\\n",
              "1000578                              False   \n",
              "1003833                              False   \n",
              "1005698                              False   \n",
              "1007055                              False   \n",
              "1008698                              False   \n",
              "\n",
              "         Zinc Elderberry and Raspberry Lozenges  \\\n",
              "1000578                                   False   \n",
              "1003833                                   False   \n",
              "1005698                                   False   \n",
              "1007055                                   False   \n",
              "1008698                                   False   \n",
              "\n",
              "         Zinc Target Mins 50 Mg Gluten Free Tablets  \\\n",
              "1000578                                       False   \n",
              "1003833                                       False   \n",
              "1005698                                       False   \n",
              "1007055                                       False   \n",
              "1008698                                       False   \n",
              "\n",
              "         ZzzQuil Liquid Warming Berry Flavor Sleep-Aid  \\\n",
              "1000578                                          False   \n",
              "1003833                                          False   \n",
              "1005698                                          False   \n",
              "1007055                                          False   \n",
              "1008698                                          False   \n",
              "\n",
              "         ZzzQuil Nighttime Sleep-Aid LiquiCaps  \\\n",
              "1000578                                  False   \n",
              "1003833                                  False   \n",
              "1005698                                  False   \n",
              "1007055                                  False   \n",
              "1008698                                  False   \n",
              "\n",
              "         by Mennen Power Antiperspirant/Deodorant Fresh  \\\n",
              "1000578                                           False   \n",
              "1003833                                           False   \n",
              "1005698                                           False   \n",
              "1007055                                           False   \n",
              "1008698                                           False   \n",
              "\n",
              "         gel hand wash sea minerals  go fresh Cool Moisture Beauty  \\\n",
              "1000578                       False                          False   \n",
              "1003833                       False                          False   \n",
              "1005698                       False                          False   \n",
              "1007055                       False                          False   \n",
              "1008698                       False                          False   \n",
              "\n",
              "         rich kiss Olive & Aloe Moisturizer 2 in 1  \n",
              "1000578                                      False  \n",
              "1003833                                      False  \n",
              "1005698                                      False  \n",
              "1007055                                      False  \n",
              "1008698                                      False  \n",
              "\n",
              "[5 rows x 1561 columns]"
            ]
          },
          "execution_count": 14,
          "metadata": {},
          "output_type": "execute_result"
        }
      ],
      "source": [
        "te = TransactionEncoder()\n",
        "dataset_bin = te.fit([i for i in dataset.values()]).transform([i for i in dataset.values()])\n",
        "df = pd.DataFrame(dataset_bin, columns=te.columns_, index=[i for i in dataset.keys()])\n",
        "df.head(5)"
      ]
    },
    {
      "cell_type": "code",
      "execution_count": null,
      "metadata": {
        "id": "yApPMaJXF08h",
        "outputId": "48e7699a-2bd0-4879-c1c9-bb80a70d7ee5"
      },
      "outputs": [
        {
          "data": {
            "text/plain": [
              "Lavender Hand Soap                                            42\n",
              "Cotton Swabs                                                  39\n",
              "Lemon Verbena Hand Soap                                       29\n",
              "Fluoride-Free Antiplaque & Whitening Peppermint Toothpaste    28\n",
              "Premium Epsom Salt                                            26\n",
              "dtype: int64"
            ]
          },
          "execution_count": 15,
          "metadata": {},
          "output_type": "execute_result"
        }
      ],
      "source": [
        "pd.Series([(df[i]==True).sum() for i in df.columns],index=df.columns).sort_values(ascending=False)[:5]"
      ]
    },
    {
      "cell_type": "markdown",
      "metadata": {
        "id": "D3nK8PoSF08h"
      },
      "source": [
        "6.\tПри помощи указанного в индивидуальном задании метода построения популярных наборов предметов постройте популярный набор предметов с минимальной поддержкой не менее 3, имеющий максимальную длину. При отсутствии таких наборов уменьшите поддержку до 2. В случае нехватки вычислительных ресурсов (слишком долгой работы программы) при построении популярных наборов предметов сокращайте число записей в наборе данных (например, делая выборку половины записей набора)."
      ]
    },
    {
      "cell_type": "code",
      "execution_count": null,
      "metadata": {
        "id": "ANP50-XPF08h",
        "outputId": "60329eb1-eed3-4e3e-8235-e5a1df8af672"
      },
      "outputs": [
        {
          "data": {
            "text/html": [
              "<div>\n",
              "<style scoped>\n",
              "    .dataframe tbody tr th:only-of-type {\n",
              "        vertical-align: middle;\n",
              "    }\n",
              "\n",
              "    .dataframe tbody tr th {\n",
              "        vertical-align: top;\n",
              "    }\n",
              "\n",
              "    .dataframe thead th {\n",
              "        text-align: right;\n",
              "    }\n",
              "</style>\n",
              "<table border=\"1\" class=\"dataframe\">\n",
              "  <thead>\n",
              "    <tr style=\"text-align: right;\">\n",
              "      <th></th>\n",
              "      <th>support</th>\n",
              "      <th>itemsets</th>\n",
              "    </tr>\n",
              "  </thead>\n",
              "  <tbody>\n",
              "    <tr>\n",
              "      <th>0</th>\n",
              "      <td>0.004686</td>\n",
              "      <td>(Pure Castile Peppermint Soap)</td>\n",
              "    </tr>\n",
              "    <tr>\n",
              "      <th>1</th>\n",
              "      <td>0.013590</td>\n",
              "      <td>(Lemon Verbena Hand Soap)</td>\n",
              "    </tr>\n",
              "    <tr>\n",
              "      <th>2</th>\n",
              "      <td>0.004217</td>\n",
              "      <td>(Natural Chocolate Flavor Whey Protein Powder)</td>\n",
              "    </tr>\n",
              "    <tr>\n",
              "      <th>3</th>\n",
              "      <td>0.001874</td>\n",
              "      <td>(PM Acetaminophen Caplets)</td>\n",
              "    </tr>\n",
              "    <tr>\n",
              "      <th>4</th>\n",
              "      <td>0.005623</td>\n",
              "      <td>(Extra Whitening Toothpaste)</td>\n",
              "    </tr>\n",
              "    <tr>\n",
              "      <th>...</th>\n",
              "      <td>...</td>\n",
              "      <td>...</td>\n",
              "    </tr>\n",
              "    <tr>\n",
              "      <th>565</th>\n",
              "      <td>0.000937</td>\n",
              "      <td>(Cotton Swabs, Oil-Free Eye Makeup Remover Cle...</td>\n",
              "    </tr>\n",
              "    <tr>\n",
              "      <th>566</th>\n",
              "      <td>0.000937</td>\n",
              "      <td>(2 in 1 Whitening Toothpaste, Liquid Hand Soap...</td>\n",
              "    </tr>\n",
              "    <tr>\n",
              "      <th>567</th>\n",
              "      <td>0.000937</td>\n",
              "      <td>(Soap, Pure-Castile, All-One Hemp Almond, All ...</td>\n",
              "    </tr>\n",
              "    <tr>\n",
              "      <th>568</th>\n",
              "      <td>0.000937</td>\n",
              "      <td>(Rosemary Hand Soap, Lavender Hand Soap)</td>\n",
              "    </tr>\n",
              "    <tr>\n",
              "      <th>569</th>\n",
              "      <td>0.000937</td>\n",
              "      <td>(Smooth as Silk Conditioner, Smooth as Silk Sh...</td>\n",
              "    </tr>\n",
              "  </tbody>\n",
              "</table>\n",
              "<p>570 rows × 2 columns</p>\n",
              "</div>"
            ],
            "text/plain": [
              "      support                                           itemsets\n",
              "0    0.004686                     (Pure Castile Peppermint Soap)\n",
              "1    0.013590                          (Lemon Verbena Hand Soap)\n",
              "2    0.004217     (Natural Chocolate Flavor Whey Protein Powder)\n",
              "3    0.001874                         (PM Acetaminophen Caplets)\n",
              "4    0.005623                       (Extra Whitening Toothpaste)\n",
              "..        ...                                                ...\n",
              "565  0.000937  (Cotton Swabs, Oil-Free Eye Makeup Remover Cle...\n",
              "566  0.000937  (2 in 1 Whitening Toothpaste, Liquid Hand Soap...\n",
              "567  0.000937  (Soap, Pure-Castile, All-One Hemp Almond, All ...\n",
              "568  0.000937           (Rosemary Hand Soap, Lavender Hand Soap)\n",
              "569  0.000937  (Smooth as Silk Conditioner, Smooth as Silk Sh...\n",
              "\n",
              "[570 rows x 2 columns]"
            ]
          },
          "execution_count": 16,
          "metadata": {},
          "output_type": "execute_result"
        }
      ],
      "source": [
        "itemsets = fpgrowth(df, min_support=2/df.shape[0],use_colnames=True)\n",
        "itemsets"
      ]
    },
    {
      "cell_type": "markdown",
      "metadata": {
        "id": "wvo9tupwF08h"
      },
      "source": [
        "7.\tИспользуя пакет `mlxtend` или реализацию на Python, постройте набор ассоциативных правил для полученного популярного наборов предметов. Используйте уровень достоверности (confidence), равный 0.6."
      ]
    },
    {
      "cell_type": "code",
      "execution_count": null,
      "metadata": {
        "id": "WxCegUwfF08i",
        "outputId": "0b3a04fd-749e-46b5-b8b9-2b0936308ac5"
      },
      "outputs": [
        {
          "data": {
            "text/html": [
              "<div>\n",
              "<style scoped>\n",
              "    .dataframe tbody tr th:only-of-type {\n",
              "        vertical-align: middle;\n",
              "    }\n",
              "\n",
              "    .dataframe tbody tr th {\n",
              "        vertical-align: top;\n",
              "    }\n",
              "\n",
              "    .dataframe thead th {\n",
              "        text-align: right;\n",
              "    }\n",
              "</style>\n",
              "<table border=\"1\" class=\"dataframe\">\n",
              "  <thead>\n",
              "    <tr style=\"text-align: right;\">\n",
              "      <th></th>\n",
              "      <th>antecedents</th>\n",
              "      <th>consequents</th>\n",
              "      <th>antecedent support</th>\n",
              "      <th>consequent support</th>\n",
              "      <th>support</th>\n",
              "      <th>confidence</th>\n",
              "      <th>lift</th>\n",
              "      <th>leverage</th>\n",
              "      <th>conviction</th>\n",
              "    </tr>\n",
              "  </thead>\n",
              "  <tbody>\n",
              "    <tr>\n",
              "      <th>0</th>\n",
              "      <td>(Coconut Milk Nourishing Shampoo)</td>\n",
              "      <td>(Coconut Milk Nourishing Conditioner)</td>\n",
              "      <td>0.000937</td>\n",
              "      <td>0.002343</td>\n",
              "      <td>0.000937</td>\n",
              "      <td>1.000000</td>\n",
              "      <td>426.800000</td>\n",
              "      <td>0.000935</td>\n",
              "      <td>inf</td>\n",
              "    </tr>\n",
              "    <tr>\n",
              "      <th>1</th>\n",
              "      <td>(All-One Hemp Citrus Castile Bar Soap)</td>\n",
              "      <td>(All One Hemp Lavender Castile Soap Bar)</td>\n",
              "      <td>0.000937</td>\n",
              "      <td>0.005623</td>\n",
              "      <td>0.000937</td>\n",
              "      <td>1.000000</td>\n",
              "      <td>177.833333</td>\n",
              "      <td>0.000932</td>\n",
              "      <td>inf</td>\n",
              "    </tr>\n",
              "    <tr>\n",
              "      <th>2</th>\n",
              "      <td>(Soap, Pure-Castile, All-One Hemp Almond)</td>\n",
              "      <td>(All One Hemp Lavender Castile Soap Bar)</td>\n",
              "      <td>0.001406</td>\n",
              "      <td>0.005623</td>\n",
              "      <td>0.000937</td>\n",
              "      <td>0.666667</td>\n",
              "      <td>118.555556</td>\n",
              "      <td>0.000929</td>\n",
              "      <td>2.983130</td>\n",
              "    </tr>\n",
              "    <tr>\n",
              "      <th>3</th>\n",
              "      <td>(Smooth as Silk Conditioner)</td>\n",
              "      <td>(Smooth as Silk Shampoo)</td>\n",
              "      <td>0.001406</td>\n",
              "      <td>0.000937</td>\n",
              "      <td>0.000937</td>\n",
              "      <td>0.666667</td>\n",
              "      <td>711.333333</td>\n",
              "      <td>0.000936</td>\n",
              "      <td>2.997188</td>\n",
              "    </tr>\n",
              "    <tr>\n",
              "      <th>4</th>\n",
              "      <td>(Smooth as Silk Shampoo)</td>\n",
              "      <td>(Smooth as Silk Conditioner)</td>\n",
              "      <td>0.000937</td>\n",
              "      <td>0.001406</td>\n",
              "      <td>0.000937</td>\n",
              "      <td>1.000000</td>\n",
              "      <td>711.333333</td>\n",
              "      <td>0.000936</td>\n",
              "      <td>inf</td>\n",
              "    </tr>\n",
              "  </tbody>\n",
              "</table>\n",
              "</div>"
            ],
            "text/plain": [
              "                                 antecedents  \\\n",
              "0          (Coconut Milk Nourishing Shampoo)   \n",
              "1     (All-One Hemp Citrus Castile Bar Soap)   \n",
              "2  (Soap, Pure-Castile, All-One Hemp Almond)   \n",
              "3               (Smooth as Silk Conditioner)   \n",
              "4                   (Smooth as Silk Shampoo)   \n",
              "\n",
              "                                consequents  antecedent support  \\\n",
              "0     (Coconut Milk Nourishing Conditioner)            0.000937   \n",
              "1  (All One Hemp Lavender Castile Soap Bar)            0.000937   \n",
              "2  (All One Hemp Lavender Castile Soap Bar)            0.001406   \n",
              "3                  (Smooth as Silk Shampoo)            0.001406   \n",
              "4              (Smooth as Silk Conditioner)            0.000937   \n",
              "\n",
              "   consequent support   support  confidence        lift  leverage  conviction  \n",
              "0            0.002343  0.000937    1.000000  426.800000  0.000935         inf  \n",
              "1            0.005623  0.000937    1.000000  177.833333  0.000932         inf  \n",
              "2            0.005623  0.000937    0.666667  118.555556  0.000929    2.983130  \n",
              "3            0.000937  0.000937    0.666667  711.333333  0.000936    2.997188  \n",
              "4            0.001406  0.000937    1.000000  711.333333  0.000936         inf  "
            ]
          },
          "execution_count": 17,
          "metadata": {},
          "output_type": "execute_result"
        }
      ],
      "source": [
        "data = association_rules(itemsets, metric=\"confidence\", min_threshold=0.6)\n",
        "data.tail()"
      ]
    },
    {
      "cell_type": "markdown",
      "metadata": {
        "id": "CFpLh9fEF08i"
      },
      "source": [
        "8.\tДля построенного набора ассоциативных правил вычислите показатель (меру) оценки ассоциативных правил, указанную в индивидуальном задании, и определите ассоциативные правила с наилучшим значением показателя оценки. "
      ]
    },
    {
      "cell_type": "code",
      "execution_count": null,
      "metadata": {
        "id": "R7e_Sy1_F08i",
        "outputId": "70792eb2-eef3-4054-adb1-2df3f315c2c9"
      },
      "outputs": [
        {
          "data": {
            "text/html": [
              "<div>\n",
              "<style scoped>\n",
              "    .dataframe tbody tr th:only-of-type {\n",
              "        vertical-align: middle;\n",
              "    }\n",
              "\n",
              "    .dataframe tbody tr th {\n",
              "        vertical-align: top;\n",
              "    }\n",
              "\n",
              "    .dataframe thead th {\n",
              "        text-align: right;\n",
              "    }\n",
              "</style>\n",
              "<table border=\"1\" class=\"dataframe\">\n",
              "  <thead>\n",
              "    <tr style=\"text-align: right;\">\n",
              "      <th></th>\n",
              "      <th>antecedents</th>\n",
              "      <th>consequents</th>\n",
              "      <th>leverage</th>\n",
              "    </tr>\n",
              "  </thead>\n",
              "  <tbody>\n",
              "    <tr>\n",
              "      <th>3</th>\n",
              "      <td>(Smooth as Silk Conditioner)</td>\n",
              "      <td>(Smooth as Silk Shampoo)</td>\n",
              "      <td>0.000936</td>\n",
              "    </tr>\n",
              "    <tr>\n",
              "      <th>4</th>\n",
              "      <td>(Smooth as Silk Shampoo)</td>\n",
              "      <td>(Smooth as Silk Conditioner)</td>\n",
              "      <td>0.000936</td>\n",
              "    </tr>\n",
              "    <tr>\n",
              "      <th>0</th>\n",
              "      <td>(Coconut Milk Nourishing Shampoo)</td>\n",
              "      <td>(Coconut Milk Nourishing Conditioner)</td>\n",
              "      <td>0.000935</td>\n",
              "    </tr>\n",
              "    <tr>\n",
              "      <th>1</th>\n",
              "      <td>(All-One Hemp Citrus Castile Bar Soap)</td>\n",
              "      <td>(All One Hemp Lavender Castile Soap Bar)</td>\n",
              "      <td>0.000932</td>\n",
              "    </tr>\n",
              "    <tr>\n",
              "      <th>2</th>\n",
              "      <td>(Soap, Pure-Castile, All-One Hemp Almond)</td>\n",
              "      <td>(All One Hemp Lavender Castile Soap Bar)</td>\n",
              "      <td>0.000929</td>\n",
              "    </tr>\n",
              "  </tbody>\n",
              "</table>\n",
              "</div>"
            ],
            "text/plain": [
              "                                 antecedents  \\\n",
              "3               (Smooth as Silk Conditioner)   \n",
              "4                   (Smooth as Silk Shampoo)   \n",
              "0          (Coconut Milk Nourishing Shampoo)   \n",
              "1     (All-One Hemp Citrus Castile Bar Soap)   \n",
              "2  (Soap, Pure-Castile, All-One Hemp Almond)   \n",
              "\n",
              "                                consequents  leverage  \n",
              "3                  (Smooth as Silk Shampoo)  0.000936  \n",
              "4              (Smooth as Silk Conditioner)  0.000936  \n",
              "0     (Coconut Milk Nourishing Conditioner)  0.000935  \n",
              "1  (All One Hemp Lavender Castile Soap Bar)  0.000932  \n",
              "2  (All One Hemp Lavender Castile Soap Bar)  0.000929  "
            ]
          },
          "execution_count": 18,
          "metadata": {},
          "output_type": "execute_result"
        }
      ],
      "source": [
        "data.sort_values('leverage', ascending=False)[['antecedents','consequents', 'leverage']][:5]"
      ]
    }
  ],
  "metadata": {
    "colab": {
      "provenance": []
    },
    "kernelspec": {
      "display_name": "Python 3 (ipykernel)",
      "language": "python",
      "name": "python3"
    },
    "language_info": {
      "codemirror_mode": {
        "name": "ipython",
        "version": 3
      },
      "file_extension": ".py",
      "mimetype": "text/x-python",
      "name": "python",
      "nbconvert_exporter": "python",
      "pygments_lexer": "ipython3",
      "version": "3.9.7"
    }
  },
  "nbformat": 4,
  "nbformat_minor": 0
}